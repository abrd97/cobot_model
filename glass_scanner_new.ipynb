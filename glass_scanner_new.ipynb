{
 "cells": [
  {
   "cell_type": "code",
   "execution_count": null,
   "metadata": {},
   "outputs": [],
   "source": [
    "!which python"
   ]
  },
  {
   "cell_type": "code",
   "execution_count": null,
   "metadata": {},
   "outputs": [],
   "source": [
    "!which pip"
   ]
  },
  {
   "cell_type": "code",
   "execution_count": null,
   "metadata": {},
   "outputs": [],
   "source": [
    "!pip install torch torchvision numpy pandas scikit-learn matplotlib opencv-python"
   ]
  },
  {
   "cell_type": "code",
   "execution_count": null,
   "metadata": {},
   "outputs": [],
   "source": [
    "import os\n",
    "import random\n",
    "from PIL import Image\n",
    "import matplotlib.pyplot as plt\n",
    "\n",
    "def split_image(image_path, vertical_lines, horizontal_lines, output_folder, labels_folder):\n",
    "    img = Image.open(image_path)\n",
    "    \n",
    "    os.makedirs(labels_folder, exist_ok=True)\n",
    "    os.makedirs(output_folder, exist_ok=True)\n",
    "    \n",
    "    base_name = os.path.splitext(os.path.basename(image_path))[0]\n",
    "    part_number = 1\n",
    "    \n",
    "    for i in reversed(range(len(horizontal_lines) - 1)):  # Start from bottom\n",
    "        for j in reversed(range(len(vertical_lines) - 1)):  # Start from right\n",
    "            left = vertical_lines[j]\n",
    "            right = vertical_lines[j+1]\n",
    "            upper = horizontal_lines[i]\n",
    "            lower = horizontal_lines[i+1]\n",
    "                        \n",
    "            part = img.crop((left, upper, right, lower))\n",
    "            final_name = f\"{base_name}_{part_number}\"\n",
    "            \n",
    "            part.save(os.path.join(output_folder, f\"{final_name}.png\"))\n",
    "            label_name = os.path.join(labels_folder, f\"{final_name}.txt\")\n",
    "            \n",
    "            with open(label_name, 'w') as file:\n",
    "                file.write(\"\")\n",
    "            part_number += 1\n",
    "\n",
    "    return part_number - 1\n",
    "\n",
    "image_path = 'gt/new/images/gt_2024-09-04_14-26-59_1.png'\n",
    "\n",
    "vertical_lines = [490, 607, 724, 841]  # Vertical (x) positions\n",
    "horizontal_lines = [70, 182, 294, 406, 518, 622]  # Horizontal (y) positions\n",
    "\n",
    "output_folder = 'cut/images'\n",
    "labels_folder = 'cut/labels'\n",
    "\n",
    "total_parts = split_image(image_path, vertical_lines, horizontal_lines, output_folder, labels_folder)"
   ]
  }
 ],
 "metadata": {
  "kernelspec": {
   "display_name": ".venv",
   "language": "python",
   "name": "python3"
  },
  "language_info": {
   "codemirror_mode": {
    "name": "ipython",
    "version": 3
   },
   "file_extension": ".py",
   "mimetype": "text/x-python",
   "name": "python",
   "nbconvert_exporter": "python",
   "pygments_lexer": "ipython3",
   "version": "3.10.14"
  }
 },
 "nbformat": 4,
 "nbformat_minor": 2
}

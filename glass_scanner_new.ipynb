{
 "cells": [
  {
   "cell_type": "code",
   "execution_count": null,
   "metadata": {},
   "outputs": [],
   "source": [
    "!which python"
   ]
  },
  {
   "cell_type": "code",
   "execution_count": null,
   "metadata": {},
   "outputs": [],
   "source": [
    "!which pip"
   ]
  },
  {
   "cell_type": "code",
   "execution_count": null,
   "metadata": {},
   "outputs": [],
   "source": [
    "!pip install torch torchvision numpy pandas scikit-learn matplotlib opencv-python"
   ]
  },
  {
   "cell_type": "code",
   "execution_count": 21,
   "metadata": {},
   "outputs": [
    {
     "ename": "FileNotFoundError",
     "evalue": "[Errno 2] No such file or directory: '/home/aleks/master-lab/cobot_model/cut/images/6.png'",
     "output_type": "error",
     "traceback": [
      "\u001b[0;31m---------------------------------------------------------------------------\u001b[0m",
      "\u001b[0;31mFileNotFoundError\u001b[0m                         Traceback (most recent call last)",
      "Cell \u001b[0;32mIn[21], line 53\u001b[0m\n\u001b[1;32m     50\u001b[0m labels_folder \u001b[38;5;241m=\u001b[39m \u001b[38;5;124m'\u001b[39m\u001b[38;5;124mcut/labels\u001b[39m\u001b[38;5;124m'\u001b[39m\n\u001b[1;32m     52\u001b[0m total_parts \u001b[38;5;241m=\u001b[39m split_image(image_path, vertical_lines, horizontal_lines, output_folder, labels_folder)\n\u001b[0;32m---> 53\u001b[0m \u001b[43mshow_random_part\u001b[49m\u001b[43m(\u001b[49m\u001b[43moutput_folder\u001b[49m\u001b[43m,\u001b[49m\u001b[43m \u001b[49m\u001b[43mtotal_parts\u001b[49m\u001b[43m)\u001b[49m\n",
      "Cell \u001b[0;32mIn[21], line 38\u001b[0m, in \u001b[0;36mshow_random_part\u001b[0;34m(output_folder, total_parts)\u001b[0m\n\u001b[1;32m     35\u001b[0m random_part \u001b[38;5;241m=\u001b[39m random\u001b[38;5;241m.\u001b[39mrandint(\u001b[38;5;241m1\u001b[39m, total_parts)\n\u001b[1;32m     36\u001b[0m random_img_path \u001b[38;5;241m=\u001b[39m os\u001b[38;5;241m.\u001b[39mpath\u001b[38;5;241m.\u001b[39mjoin(output_folder, \u001b[38;5;124mf\u001b[39m\u001b[38;5;124m\"\u001b[39m\u001b[38;5;132;01m{\u001b[39;00mrandom_part\u001b[38;5;132;01m}\u001b[39;00m\u001b[38;5;124m.png\u001b[39m\u001b[38;5;124m\"\u001b[39m)\n\u001b[0;32m---> 38\u001b[0m img \u001b[38;5;241m=\u001b[39m \u001b[43mImage\u001b[49m\u001b[38;5;241;43m.\u001b[39;49m\u001b[43mopen\u001b[49m\u001b[43m(\u001b[49m\u001b[43mrandom_img_path\u001b[49m\u001b[43m)\u001b[49m\n\u001b[1;32m     39\u001b[0m plt\u001b[38;5;241m.\u001b[39mimshow(img)\n\u001b[1;32m     40\u001b[0m plt\u001b[38;5;241m.\u001b[39maxis(\u001b[38;5;124m'\u001b[39m\u001b[38;5;124moff\u001b[39m\u001b[38;5;124m'\u001b[39m)\n",
      "File \u001b[0;32m~/master-lab/cobot_model/.venv/lib64/python3.10/site-packages/PIL/Image.py:3431\u001b[0m, in \u001b[0;36mopen\u001b[0;34m(fp, mode, formats)\u001b[0m\n\u001b[1;32m   3428\u001b[0m     filename \u001b[38;5;241m=\u001b[39m os\u001b[38;5;241m.\u001b[39mpath\u001b[38;5;241m.\u001b[39mrealpath(os\u001b[38;5;241m.\u001b[39mfspath(fp))\n\u001b[1;32m   3430\u001b[0m \u001b[38;5;28;01mif\u001b[39;00m filename:\n\u001b[0;32m-> 3431\u001b[0m     fp \u001b[38;5;241m=\u001b[39m \u001b[43mbuiltins\u001b[49m\u001b[38;5;241;43m.\u001b[39;49m\u001b[43mopen\u001b[49m\u001b[43m(\u001b[49m\u001b[43mfilename\u001b[49m\u001b[43m,\u001b[49m\u001b[43m \u001b[49m\u001b[38;5;124;43m\"\u001b[39;49m\u001b[38;5;124;43mrb\u001b[39;49m\u001b[38;5;124;43m\"\u001b[39;49m\u001b[43m)\u001b[49m\n\u001b[1;32m   3432\u001b[0m     exclusive_fp \u001b[38;5;241m=\u001b[39m \u001b[38;5;28;01mTrue\u001b[39;00m\n\u001b[1;32m   3433\u001b[0m \u001b[38;5;28;01melse\u001b[39;00m:\n",
      "\u001b[0;31mFileNotFoundError\u001b[0m: [Errno 2] No such file or directory: '/home/aleks/master-lab/cobot_model/cut/images/6.png'"
     ]
    }
   ],
   "source": [
    "import os\n",
    "import random\n",
    "from PIL import Image\n",
    "import matplotlib.pyplot as plt\n",
    "\n",
    "def split_image(image_path, vertical_lines, horizontal_lines, output_folder, labels_folder):\n",
    "    img = Image.open(image_path)\n",
    "    \n",
    "    os.makedirs(labels_folder, exist_ok=True)\n",
    "    os.makedirs(output_folder, exist_ok=True)\n",
    "    \n",
    "    base_name = os.path.splitext(os.path.basename(image_path))[0]\n",
    "    part_number = 1\n",
    "    \n",
    "    for i in reversed(range(len(horizontal_lines) - 1)):  # Start from bottom\n",
    "        for j in reversed(range(len(vertical_lines) - 1)):  # Start from right\n",
    "            left = vertical_lines[j]\n",
    "            right = vertical_lines[j+1]\n",
    "            upper = horizontal_lines[i]\n",
    "            lower = horizontal_lines[i+1]\n",
    "                        \n",
    "            part = img.crop((left, upper, right, lower))\n",
    "            final_name = f\"{base_name}_{part_number}\"\n",
    "            \n",
    "            part.save(os.path.join(output_folder, f\"{final_name}.png\"))\n",
    "            label_name = os.path.join(labels_folder, f\"{final_name}.txt\")\n",
    "            \n",
    "            with open(label_name, 'w') as file:\n",
    "                file.write(\"\")\n",
    "            part_number += 1\n",
    "\n",
    "    return part_number - 1\n",
    "\n",
    "image_path = 'gt/new/images/gt_2024-09-04_14-26-59_1.png'\n",
    "\n",
    "vertical_lines = [490, 607, 724, 841]  # Vertical (x) positions\n",
    "horizontal_lines = [70, 182, 294, 406, 518, 622]  # Horizontal (y) positions\n",
    "\n",
    "output_folder = 'cut/images'\n",
    "labels_folder = 'cut/labels'\n",
    "\n",
    "total_parts = split_image(image_path, vertical_lines, horizontal_lines, output_folder, labels_folder)"
   ]
  }
 ],
 "metadata": {
  "kernelspec": {
   "display_name": ".venv",
   "language": "python",
   "name": "python3"
  },
  "language_info": {
   "codemirror_mode": {
    "name": "ipython",
    "version": 3
   },
   "file_extension": ".py",
   "mimetype": "text/x-python",
   "name": "python",
   "nbconvert_exporter": "python",
   "pygments_lexer": "ipython3",
   "version": "3.10.14"
  }
 },
 "nbformat": 4,
 "nbformat_minor": 2
}

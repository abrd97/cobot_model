{
 "cells": [
  {
   "cell_type": "code",
   "execution_count": null,
   "metadata": {},
   "outputs": [],
   "source": [
    "!which python"
   ]
  },
  {
   "cell_type": "code",
   "execution_count": null,
   "metadata": {},
   "outputs": [],
   "source": [
    "!which pip"
   ]
  },
  {
   "cell_type": "code",
   "execution_count": null,
   "metadata": {},
   "outputs": [],
   "source": [
    "!pip install torch torchvision numpy pandas scikit-learn matplotlib opencv-python"
   ]
  },
  {
   "cell_type": "code",
   "execution_count": 1,
   "metadata": {},
   "outputs": [],
   "source": [
    "import os\n",
    "from PIL import Image\n",
    "\n",
    "def split_image(image_path, vertical_lines, horizontal_lines, output_folder, labels_folder):\n",
    "    img = Image.open(image_path)\n",
    "    \n",
    "    os.makedirs(labels_folder, exist_ok=True)\n",
    "    os.makedirs(output_folder, exist_ok=True)\n",
    "    \n",
    "    base_name = os.path.splitext(os.path.basename(image_path))[0]\n",
    "    part_number = 1\n",
    "    \n",
    "    for i in reversed(range(len(horizontal_lines) - 1)):  # Start from bottom\n",
    "        for j in reversed(range(len(vertical_lines) - 1)):  # Start from right\n",
    "            left = vertical_lines[j]\n",
    "            right = vertical_lines[j+1]\n",
    "            upper = horizontal_lines[i]\n",
    "            lower = horizontal_lines[i+1]\n",
    "                        \n",
    "            part = img.crop((left, upper, right, lower))\n",
    "            final_name = f\"{base_name}_{part_number}\"\n",
    "            \n",
    "            part.save(os.path.join(output_folder, f\"{final_name}.png\"))\n",
    "            label_name = os.path.join(labels_folder, f\"{final_name}.txt\")\n",
    "            \n",
    "            with open(label_name, 'w') as file:\n",
    "                file.write(\"\")\n",
    "            part_number += 1\n"
   ]
  },
  {
   "cell_type": "code",
   "execution_count": null,
   "metadata": {},
   "outputs": [],
   "source": [
    "image_folder = 'gt/depth/images'\n",
    "vertical_lines = [520, 600, 680, 760]  # Vertical (x) positions\n",
    "horizontal_lines = [160, 240, 320, 400, 480, 560]  # Horizontal (y) positions\n",
    "\n",
    "output_folder = 'cut/depth/images'\n",
    "labels_folder = 'cut/depth/labels'\n",
    "\n",
    "for image_file in os.listdir(image_folder):\n",
    "    path = os.path.join(image_folder, image_file)\n",
    "    split_image(path, vertical_lines, horizontal_lines, output_folder, labels_folder)\n",
    "    print(f\"image file {image_file} splitted\")"
   ]
  },
  {
   "cell_type": "code",
   "execution_count": null,
   "metadata": {},
   "outputs": [],
   "source": [
    "# big_list = set()\n",
    "# images_set = set()\n",
    "# for file_image in os.listdir(output_folder):\n",
    "#     with Image.open(os.path.join(output_folder, file_image)) as img:\n",
    "#         big_list.add(img.size)\n",
    "#         images_set.add(file_image.split('_')[-2])\n",
    "            \n",
    "# print(len(big_list))\n",
    "# print(big_list)\n",
    "# print(len(os.listdir('cut/depth/images')))"
   ]
  }
 ],
 "metadata": {
  "kernelspec": {
   "display_name": ".venv",
   "language": "python",
   "name": "python3"
  },
  "language_info": {
   "codemirror_mode": {
    "name": "ipython",
    "version": 3
   },
   "file_extension": ".py",
   "mimetype": "text/x-python",
   "name": "python",
   "nbconvert_exporter": "python",
   "pygments_lexer": "ipython3",
   "version": "3.10.14"
  }
 },
 "nbformat": 4,
 "nbformat_minor": 2
}
